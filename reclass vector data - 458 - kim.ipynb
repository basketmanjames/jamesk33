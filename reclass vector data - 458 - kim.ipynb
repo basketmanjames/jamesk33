{
 "metadata": {
  "name": "reclass vector data - 458 - kim.ipynb"
 },
 "nbformat": 3,
 "nbformat_minor": 0,
 "worksheets": [
  {
   "cells": [
    {
     "cell_type": "markdown",
     "metadata": {},
     "source": [
      "James Kim\n",
      "\n",
      "Lab 2\n",
      "\n",
      "GEOG 458"
     ]
    },
    {
     "cell_type": "markdown",
     "metadata": {},
     "source": [
      "I tried to populate a new field in which the user can determines the field name. This field will be populated by a table that was granted by the user. The end result of this task, is to potentially create a tool in which the user can reclassify the their layer file table to match to an existing one. The goal of this lab is to make a tool that might work"
     ]
    },
    {
     "cell_type": "code",
     "collapsed": false,
     "input": [
      "#import codes so Canopy and ArcMap Desktop can talk to one another.\n",
      "#in actual script, this may not be needed.\n",
      "import sys\n",
      "sys.path.append('C:\\\\Program Files (x86)\\\\ArcGIS\\\\Desktop10.2\\\\bin')\n",
      "sys.path.append('C:\\\\Program Files (x86)\\\\ArcGIS\\\\Desktop10.2\\\\arcpy')\n",
      "sys.path.append('C:\\\\Program Files (x86)\\\\ArcGIS\\\\Desktop10.2\\\\ArcToolbox\\\\Scripts')\n",
      "import arcpy\n"
     ],
     "language": "python",
     "metadata": {},
     "outputs": []
    },
    {
     "cell_type": "markdown",
     "metadata": {},
     "source": [
      "The section in which I indicate the user to add field, it was meant so that the users are able to add specifically a DOUBLE field with the name they desire.\n",
      "\n",
      "The last portion of the code gives instruction for the software to follow a process in order to populate the field based on two tables. In this section, I specifically design so that tool will look at the lowerbound, upperbound, and value. For this part, I predetermine what the code should look for, which may or may not be realistic in a sense that users do not always name the fields exactly as so. \n",
      "\n",
      "The code compares the two tables and justify want to populat the field based on the instruction."
     ]
    },
    {
     "cell_type": "code",
     "collapsed": false,
     "input": [
      "In_Feature = arcpy.GetParameterAsText(0)  #In this feature layer : King.shp\n",
      "Out_Feature = arcpy.GetParameterAsText(1)  #Output of the feature class\n",
      "In_Table = arcpy.GetParameterAsText(2)   #In this given table\n",
      "In_Field = arcpy.GetParameterAsText(3)   #Field wanted : DenPop12\n",
      "Out_Field = arcpy.GetParameterAsText(4)  #Output of field : testing\n",
      "valuenotfound = arcpy.GetParameterAsText(5)  #Not found value (optional) to populate field : 9999\n",
      "\n",
      "\n",
      "#This section add a field for the user to input\n",
      "field = arcpy.ValidateFieldName(OutField)\n",
      "arcpy.CopyFeatures_management(InFeature, OutFeature)\n",
      "arcpy.AddField_management(OutFeature, field, \"DOUBLE\")\n",
      "\n",
      "\n",
      "#Create a cursor that looks at new Output Feature and specifically at a field.\n",
      "cursor_fc = arcpy.da.UpdateCursor(OutFeature, [InField,field])\n",
      "for row in cursor_fc:\n",
      "\tcursor_table = arcpy.da.SearchCursor(InTable, [\"lowerbound\", \"upperbound\", \"value\"]) #examines the lower, upperbound, and value\n",
      "\trow[1] = valuenotfound\n",
      "\tcursor_fc.updateRow(row)\n",
      "\tfor table in cursor_table:\n",
      "\t\tif row[0] >= table[0] and row[0] <= table[1]: #set a range, so that cursor can look at the field\n",
      "\t\t\trow[1] = table[2]\n",
      "\t\t\tcursor_fc.updateRow(row)\n",
      "\t\telse:\n",
      "\t\t\tprint \"9999\"  #if field not found, print 9999\n",
      "\tdel table\n",
      "\tdel cursor_table\n",
      "del row\n",
      "del cursor_fc\n"
     ],
     "language": "python",
     "metadata": {},
     "outputs": [
      {
       "ename": "NameError",
       "evalue": "name 'arcpy' is not defined",
       "output_type": "pyerr",
       "traceback": [
        "\u001b[1;31m---------------------------------------------------------------------------\u001b[0m\n\u001b[1;31mNameError\u001b[0m                                 Traceback (most recent call last)",
        "\u001b[1;32m<ipython-input-1-5ce5cd3174ae>\u001b[0m in \u001b[0;36m<module>\u001b[1;34m()\u001b[0m\n\u001b[1;32m----> 1\u001b[1;33m \u001b[0mInFeature\u001b[0m \u001b[1;33m=\u001b[0m \u001b[0marcpy\u001b[0m\u001b[1;33m.\u001b[0m\u001b[0mGetParameterAsText\u001b[0m\u001b[1;33m(\u001b[0m\u001b[1;36m0\u001b[0m\u001b[1;33m)\u001b[0m  \u001b[1;31m#In this feature layer or class\u001b[0m\u001b[1;33m\u001b[0m\u001b[0m\n\u001b[0m\u001b[0;32m      2\u001b[0m \u001b[0mOutFeature\u001b[0m \u001b[1;33m=\u001b[0m \u001b[0marcpy\u001b[0m\u001b[1;33m.\u001b[0m\u001b[0mGetParameterAsText\u001b[0m\u001b[1;33m(\u001b[0m\u001b[1;36m1\u001b[0m\u001b[1;33m)\u001b[0m  \u001b[1;31m#Output of the feature layer or class\u001b[0m\u001b[1;33m\u001b[0m\u001b[0m\n\u001b[0;32m      3\u001b[0m \u001b[0mInTable\u001b[0m \u001b[1;33m=\u001b[0m \u001b[0marcpy\u001b[0m\u001b[1;33m.\u001b[0m\u001b[0mGetParameterAsText\u001b[0m\u001b[1;33m(\u001b[0m\u001b[1;36m2\u001b[0m\u001b[1;33m)\u001b[0m   \u001b[1;31m#In this given table\u001b[0m\u001b[1;33m\u001b[0m\u001b[0m\n\u001b[0;32m      4\u001b[0m \u001b[0mInField\u001b[0m \u001b[1;33m=\u001b[0m \u001b[0marcpy\u001b[0m\u001b[1;33m.\u001b[0m\u001b[0mGetParameterAsText\u001b[0m\u001b[1;33m(\u001b[0m\u001b[1;36m3\u001b[0m\u001b[1;33m)\u001b[0m   \u001b[1;31m#Field wanted\u001b[0m\u001b[1;33m\u001b[0m\u001b[0m\n\u001b[0;32m      5\u001b[0m \u001b[0mOutField\u001b[0m \u001b[1;33m=\u001b[0m \u001b[0marcpy\u001b[0m\u001b[1;33m.\u001b[0m\u001b[0mGetParameterAsText\u001b[0m\u001b[1;33m(\u001b[0m\u001b[1;36m4\u001b[0m\u001b[1;33m)\u001b[0m  \u001b[1;31m#Output of field\u001b[0m\u001b[1;33m\u001b[0m\u001b[0m\n",
        "\u001b[1;31mNameError\u001b[0m: name 'arcpy' is not defined"
       ]
      }
     ],
     "prompt_number": 1
    },
    {
     "cell_type": "code",
     "collapsed": false,
     "input": [],
     "language": "python",
     "metadata": {},
     "outputs": []
    }
   ],
   "metadata": {}
  }
 ]
}